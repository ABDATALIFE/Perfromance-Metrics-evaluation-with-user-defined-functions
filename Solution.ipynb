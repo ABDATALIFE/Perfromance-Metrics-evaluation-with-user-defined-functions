{
 "cells": [
  {
   "cell_type": "code",
   "execution_count": 96,
   "id": "2549520a",
   "metadata": {},
   "outputs": [],
   "source": [
    "import numpy as np\n",
    "from sklearn.preprocessing import PolynomialFeatures\n",
    "from sklearn.linear_model import LinearRegression\n",
    "from sklearn.pipeline import Pipeline\n",
    "import pathlib as pl\n",
    "import os \n",
    "import pandas as pd"
   ]
  },
  {
   "cell_type": "markdown",
   "id": "0e8c6a33",
   "metadata": {},
   "source": [
    "# Metrics for Model Selection\n",
    "\n",
    "In this notebook you will fit polynomials to data to decide which order of polynomial is the best fit. Unlike before, the data you will be using is 3 dimensional, meaning it isn't possible to plot. Instead, you will write functions to calculate various metrics that are used to determine model fit. \n",
    "\n",
    "Complete this notebook, then answer the questions that go along side it. "
   ]
  },
  {
   "cell_type": "code",
   "execution_count": 97,
   "id": "4b83af6b",
   "metadata": {},
   "outputs": [],
   "source": [
    "# set random seed for reproducibility\n",
    "seed = 2022\n",
    "np.random.seed(seed)"
   ]
  },
  {
   "cell_type": "markdown",
   "id": "8f323453",
   "metadata": {},
   "source": [
    "## Load the data "
   ]
  },
  {
   "cell_type": "code",
   "execution_count": 98,
   "id": "97b160e4",
   "metadata": {},
   "outputs": [],
   "source": [
    "path_csv = pl.Path(os.getcwd()) / f'M6_Performance_Metrics_Data.csv'\n",
    "with open(path_csv, 'rb') as file:\n",
    "    data_pd = pd.read_csv(file)"
   ]
  },
  {
   "cell_type": "code",
   "execution_count": 100,
   "id": "b2565b4f",
   "metadata": {},
   "outputs": [
    {
     "data": {
      "text/html": [
       "<div>\n",
       "<style scoped>\n",
       "    .dataframe tbody tr th:only-of-type {\n",
       "        vertical-align: middle;\n",
       "    }\n",
       "\n",
       "    .dataframe tbody tr th {\n",
       "        vertical-align: top;\n",
       "    }\n",
       "\n",
       "    .dataframe thead th {\n",
       "        text-align: right;\n",
       "    }\n",
       "</style>\n",
       "<table border=\"1\" class=\"dataframe\">\n",
       "  <thead>\n",
       "    <tr style=\"text-align: right;\">\n",
       "      <th></th>\n",
       "      <th>Unnamed: 0</th>\n",
       "      <th>x1</th>\n",
       "      <th>x2</th>\n",
       "      <th>x3</th>\n",
       "      <th>y</th>\n",
       "    </tr>\n",
       "  </thead>\n",
       "  <tbody>\n",
       "    <tr>\n",
       "      <th>0</th>\n",
       "      <td>0</td>\n",
       "      <td>0.382303</td>\n",
       "      <td>-1.596593</td>\n",
       "      <td>1.233776</td>\n",
       "      <td>4.935364</td>\n",
       "    </tr>\n",
       "    <tr>\n",
       "      <th>1</th>\n",
       "      <td>1</td>\n",
       "      <td>1.902436</td>\n",
       "      <td>1.579109</td>\n",
       "      <td>-0.341741</td>\n",
       "      <td>25.138660</td>\n",
       "    </tr>\n",
       "    <tr>\n",
       "      <th>2</th>\n",
       "      <td>2</td>\n",
       "      <td>-1.689244</td>\n",
       "      <td>1.298489</td>\n",
       "      <td>-1.472081</td>\n",
       "      <td>-4.786340</td>\n",
       "    </tr>\n",
       "    <tr>\n",
       "      <th>3</th>\n",
       "      <td>3</td>\n",
       "      <td>-1.510509</td>\n",
       "      <td>1.937616</td>\n",
       "      <td>-1.600244</td>\n",
       "      <td>-3.185759</td>\n",
       "    </tr>\n",
       "    <tr>\n",
       "      <th>4</th>\n",
       "      <td>4</td>\n",
       "      <td>1.621717</td>\n",
       "      <td>0.515558</td>\n",
       "      <td>-1.869644</td>\n",
       "      <td>19.712731</td>\n",
       "    </tr>\n",
       "    <tr>\n",
       "      <th>5</th>\n",
       "      <td>5</td>\n",
       "      <td>-1.928868</td>\n",
       "      <td>-1.475115</td>\n",
       "      <td>-0.677217</td>\n",
       "      <td>24.007974</td>\n",
       "    </tr>\n",
       "    <tr>\n",
       "      <th>6</th>\n",
       "      <td>6</td>\n",
       "      <td>-0.581466</td>\n",
       "      <td>-1.672979</td>\n",
       "      <td>-0.331812</td>\n",
       "      <td>3.786323</td>\n",
       "    </tr>\n",
       "    <tr>\n",
       "      <th>7</th>\n",
       "      <td>7</td>\n",
       "      <td>1.409334</td>\n",
       "      <td>-1.663275</td>\n",
       "      <td>-0.899389</td>\n",
       "      <td>-5.856637</td>\n",
       "    </tr>\n",
       "    <tr>\n",
       "      <th>8</th>\n",
       "      <td>8</td>\n",
       "      <td>-1.068701</td>\n",
       "      <td>-0.764019</td>\n",
       "      <td>0.805561</td>\n",
       "      <td>5.126408</td>\n",
       "    </tr>\n",
       "    <tr>\n",
       "      <th>9</th>\n",
       "      <td>9</td>\n",
       "      <td>-0.473046</td>\n",
       "      <td>-0.477313</td>\n",
       "      <td>-0.483007</td>\n",
       "      <td>3.306021</td>\n",
       "    </tr>\n",
       "  </tbody>\n",
       "</table>\n",
       "</div>"
      ],
      "text/plain": [
       "   Unnamed: 0        x1        x2        x3          y\n",
       "0           0  0.382303 -1.596593  1.233776   4.935364\n",
       "1           1  1.902436  1.579109 -0.341741  25.138660\n",
       "2           2 -1.689244  1.298489 -1.472081  -4.786340\n",
       "3           3 -1.510509  1.937616 -1.600244  -3.185759\n",
       "4           4  1.621717  0.515558 -1.869644  19.712731\n",
       "5           5 -1.928868 -1.475115 -0.677217  24.007974\n",
       "6           6 -0.581466 -1.672979 -0.331812   3.786323\n",
       "7           7  1.409334 -1.663275 -0.899389  -5.856637\n",
       "8           8 -1.068701 -0.764019  0.805561   5.126408\n",
       "9           9 -0.473046 -0.477313 -0.483007   3.306021"
      ]
     },
     "execution_count": 100,
     "metadata": {},
     "output_type": "execute_result"
    }
   ],
   "source": [
    "data_pd.head(10)"
   ]
  },
  {
   "cell_type": "code",
   "execution_count": 101,
   "id": "0a673180",
   "metadata": {},
   "outputs": [],
   "source": [
    "### Seperating X and Y Variables\n",
    "data = {'X':data_pd[['x1','x2','x3']].to_numpy(), 'Y':data_pd['y'].to_numpy()}"
   ]
  },
  {
   "cell_type": "code",
   "execution_count": 102,
   "id": "056e7bab",
   "metadata": {},
   "outputs": [
    {
     "data": {
      "text/plain": [
       "{'X': array([[ 0.38230331, -1.59659343,  1.23377604],\n",
       "        [ 1.90243561,  1.57910851, -0.34174119],\n",
       "        [-1.68924391,  1.29848904, -1.47208051],\n",
       "        [-1.51050932,  1.93761581, -1.60024351],\n",
       "        [ 1.62171694,  0.51555753, -1.86964382],\n",
       "        [-1.9288683 , -1.47511467, -0.67721668],\n",
       "        [-0.58146615, -1.6729788 , -0.33181156],\n",
       "        [ 1.40933377, -1.66327522, -0.89938906],\n",
       "        [-1.06870128, -0.76401902,  0.80556103],\n",
       "        [-0.47304578, -0.47731275, -0.48300685],\n",
       "        [ 1.00948997, -0.52657911, -1.68216456],\n",
       "        [-1.79188087,  1.24753051, -1.40480221],\n",
       "        [-1.09610647,  0.56015469, -0.0722571 ],\n",
       "        [ 1.62968853,  1.22844166, -1.95196277],\n",
       "        [ 1.88998474,  0.46476418, -1.29730356],\n",
       "        [-0.58535968, -0.02372768,  1.0327416 ],\n",
       "        [-1.14400211,  0.94979955,  0.86627203],\n",
       "        [-0.88016357,  0.07727138, -1.17613946],\n",
       "        [-0.43091588,  1.40112791, -0.4806406 ],\n",
       "        [ 1.06911117, -1.18452612,  0.5760389 ],\n",
       "        [ 1.14863695, -0.12875521, -0.38413525],\n",
       "        [-0.28136238, -1.5230422 , -0.68531669],\n",
       "        [-0.3590989 ,  0.9520815 ,  1.74338457],\n",
       "        [-0.49609003,  1.55268991, -1.33386375],\n",
       "        [ 1.80832834, -0.13786471, -0.01638746],\n",
       "        [ 1.05165804,  1.36658568, -0.97343354],\n",
       "        [-0.87654383, -1.21928133, -0.74814512],\n",
       "        [-0.69957677,  0.43141855, -0.42014293],\n",
       "        [-1.04493225, -1.98175188,  1.85642957],\n",
       "        [-1.56207564, -0.82711386, -1.35031395],\n",
       "        [-0.25120182,  1.92126586,  0.64558459],\n",
       "        [ 0.44514596, -0.36023564,  0.92965924],\n",
       "        [ 0.86540315,  0.68847999, -0.87978608],\n",
       "        [ 1.84244748, -0.73002928, -1.20840994],\n",
       "        [-1.94761969,  0.50986083,  0.77110906],\n",
       "        [ 0.4977723 ,  0.80343545, -0.80193877],\n",
       "        [ 0.72328744, -0.57882951, -0.65596229],\n",
       "        [-1.06672072, -0.80620238, -1.60330177],\n",
       "        [-1.54089152, -1.9142331 ,  0.09493084],\n",
       "        [ 1.55239785, -1.76706926, -0.44795601],\n",
       "        [-1.05748387, -0.00568976, -0.31870196],\n",
       "        [ 1.02687607,  0.08535091, -0.1945416 ],\n",
       "        [-0.66908792, -1.53632682, -0.52257907],\n",
       "        [-1.09194764, -0.5855556 ,  0.89449122],\n",
       "        [ 0.57758132,  0.56139229,  0.0037855 ],\n",
       "        [-0.35568304, -0.48786439,  1.45109569],\n",
       "        [-0.37450933,  0.73437147, -1.9924199 ],\n",
       "        [-1.89254305,  0.08687025,  1.67567281],\n",
       "        [ 1.25267271, -1.39660592, -1.47239501],\n",
       "        [ 1.80084162,  0.01710847, -0.12943169],\n",
       "        [ 0.45747774, -1.02280445,  0.04642873],\n",
       "        [-1.5984953 , -0.56227401, -0.47737011],\n",
       "        [ 1.26258336,  0.23446633, -0.13265224],\n",
       "        [-1.86530417, -0.9649604 , -1.98813324],\n",
       "        [ 0.58387361, -1.25799089, -1.22082272],\n",
       "        [-1.2776225 , -0.81754593, -1.88854945],\n",
       "        [ 1.12714797,  0.65557433,  0.90036606],\n",
       "        [ 0.40396282, -1.39603249,  0.56034037],\n",
       "        [-1.26842055, -1.43110288,  0.28295914],\n",
       "        [-1.9425583 , -1.11516963,  1.36175713],\n",
       "        [ 0.94806621,  1.62647603, -0.1517249 ],\n",
       "        [ 1.19042982, -0.45880414,  0.80995583],\n",
       "        [-1.6700561 ,  0.36275956,  1.3941613 ],\n",
       "        [ 1.23452069,  0.04940058,  1.83628067],\n",
       "        [ 0.89790262,  1.42670656,  0.79749836],\n",
       "        [ 0.30861212, -0.92390896, -0.2357976 ],\n",
       "        [ 0.03286513,  0.273388  ,  1.60592275],\n",
       "        [ 1.38438512, -0.54427712,  1.37940497],\n",
       "        [ 1.37812297,  1.91248324,  0.11920434],\n",
       "        [-1.59172096,  1.03081913,  1.47982907],\n",
       "        [-0.20282391,  1.5522312 ,  0.05751132],\n",
       "        [-0.16215191,  1.37344021,  0.41123223],\n",
       "        [ 0.20555182, -0.08759928,  0.73849692],\n",
       "        [ 1.09000231,  1.29343007,  1.85256609],\n",
       "        [-0.40917016, -1.33176964,  0.80369612],\n",
       "        [ 0.62783027, -1.46880755, -1.33975288],\n",
       "        [ 1.79022855,  0.38997901,  1.15769045],\n",
       "        [-1.20716261,  1.24480179,  1.63631127],\n",
       "        [-1.98711362,  0.32628756, -0.32705477],\n",
       "        [-1.38659256,  1.15837375,  1.99485072],\n",
       "        [-1.35934843, -1.78085813,  0.84798481],\n",
       "        [-1.86035853,  1.45679609, -0.71687141],\n",
       "        [ 1.15748447, -0.75844711,  1.42452016],\n",
       "        [-1.89309787,  0.44095411, -0.79774907],\n",
       "        [-0.16102218,  0.03372029,  0.13097295],\n",
       "        [ 0.40638092, -0.54699653,  1.11487846],\n",
       "        [-0.70184844,  0.2022342 , -1.035928  ],\n",
       "        [-0.20688447,  0.55694387, -0.99125169],\n",
       "        [-1.89021473, -0.27676149, -1.03961042],\n",
       "        [-1.08333615,  0.4101259 , -1.56702151],\n",
       "        [ 1.21055345, -1.96026314,  1.89694146],\n",
       "        [ 1.68024827, -1.89931328,  0.86177124],\n",
       "        [-0.17069697,  1.56889066, -1.73256344],\n",
       "        [ 1.63617163,  0.57651621, -1.85064259],\n",
       "        [ 0.6326505 , -1.62834707,  1.68308647],\n",
       "        [-0.36906193,  1.34471618, -0.54593631],\n",
       "        [-1.23603002,  1.02782901,  0.10553868],\n",
       "        [-0.41570799, -0.62669678,  1.07695909],\n",
       "        [-0.46767508,  1.52752059,  0.67512162],\n",
       "        [-0.12652381,  1.8079009 , -0.74051269]]),\n",
       " 'Y': array([  4.93536386,  25.13866015,  -4.78633953,  -3.18575907,\n",
       "         19.71273104,  24.00797441,   3.78632257,  -5.8566369 ,\n",
       "          5.12640788,   3.30602066,   9.92072969,  -7.88539177,\n",
       "          2.07338205,  27.97785087,  12.08957042,   4.07224873,\n",
       "          1.22374214,   5.16705318,   2.78354963,   0.0495955 ,\n",
       "          2.50879609,   3.11151721,  12.82027952,   5.70407039,\n",
       "          1.46857802,   6.86396233,   4.67537254,   3.27690285,\n",
       "         20.02814761,  12.51195455,   3.72260246,   3.70332747,\n",
       "          4.05707423,  -3.89616443,  -4.52242557,   3.12737414,\n",
       "          3.5652157 ,  11.5041068 ,  16.93939477, -10.50760865,\n",
       "          2.64536292,   2.8503175 ,   4.46846527,   4.81592153,\n",
       "          3.16580607,   7.68545583,  18.65909933,   9.82509482,\n",
       "          2.49327015,   3.38095036,   3.12383024,   7.68951541,\n",
       "          4.14884962,  30.53923858,   4.84364745,  19.19369218,\n",
       "          5.51309065,   2.27914901,   8.86865699,  22.34494989,\n",
       "          5.8426088 ,   1.87386462,   3.08965498,  14.89060878,\n",
       "          5.38443684,   3.18730231,   9.59243626,   4.00059431,\n",
       "         13.29265939,  -0.86992717,   3.07665876,   3.16026456,\n",
       "          3.58035313,  17.88765726,   3.61136015,   5.7220449 ,\n",
       "          9.56345829,   5.83928151,  -2.43674499,  12.56391821,\n",
       "         12.23465489, -15.10726282,   4.65202171,  -2.20980436,\n",
       "          3.24206876,   4.50744365,   4.02785526,   4.30375427,\n",
       "          7.36128636,   8.24441535,   9.2929936 , -14.65392845,\n",
       "         11.33954247,  20.27150817,  10.45108749,   2.84842096,\n",
       "         -0.46121204,   4.51412833,   2.89500532,   3.11402233])}"
      ]
     },
     "execution_count": 102,
     "metadata": {},
     "output_type": "execute_result"
    }
   ],
   "source": [
    "data"
   ]
  },
  {
   "cell_type": "code",
   "execution_count": 103,
   "id": "de9a4463",
   "metadata": {},
   "outputs": [],
   "source": [
    "##index  =   [0    1     2]\n",
    "data_split = [0.4,0.30,0.30] ## Training, Validation , Testing"
   ]
  },
  {
   "cell_type": "markdown",
   "id": "9d2d5f09",
   "metadata": {},
   "source": [
    "## Section 1 : Split the data into training, validation and test sets\n",
    "\n",
    "### TO DO: write a function that splits the data into traning, validation and test sets.\n",
    "\n",
    "The function should take as inputs the dataframe and the percentage splits for each of training, validation and test. It should output 3 dataframes, one for each of the sets. "
   ]
  },
  {
   "cell_type": "code",
   "execution_count": 105,
   "id": "b8b80816",
   "metadata": {},
   "outputs": [],
   "source": [
    "## write your function here ##\n",
    "def split_data(data_dict, data_split):\n",
    "    \"\"\"divide the data into training, validate and test sets. \n",
    "    :param data_dict: a dictionary of the data with keys 'X' and 'Y'\n",
    "    :param data_split: a list of the fraction of the data to be in each set of form \n",
    "    [training_fraction, validation_fraction, test_fraction]. The fractions should all add up to 1.\n",
    "    :returns training_dict, validation_dict, test_dict: dictionaries of the same form as the data_dict, \n",
    "    containing the different sets\"\"\"\n",
    "    \n",
    "    #assert np.sum(data_split) == 1.0\n",
    "    \n",
    "    # work out how many datapoints will be in the train and validation sets \n",
    "    n_train = int(len((data_dict['X']))*data_split[0])\n",
    "    n_validate = int(len((data_dict['X']))*data_split[1])\n",
    "    \n",
    "    # generate a random permutation of indices of the data and split into training, validation and test\n",
    "    perm = np.random.permutation(range(len(data_dict['X'])))\n",
    "    indices_train, indices_validate, indices_test = np.split(perm, [n_train, n_train+ n_validate])\n",
    "    \n",
    "    # create training, validation and test dictionaries \n",
    "    training_dict = {'X': data['X'][indices_train], 'Y': data['Y'][indices_train]}\n",
    "    validation_dict = {'X': data['X'][indices_validate], 'Y': data['Y'][indices_validate]}\n",
    "    test_dict = {'X': data['X'][indices_test], 'Y': data['Y'][indices_test]}\n",
    "    \n",
    "    return training_dict, validation_dict, test_dict"
   ]
  },
  {
   "cell_type": "markdown",
   "id": "2d4f0de2",
   "metadata": {},
   "source": [
    "### TO DO: Use your function to split the data so the training set has 40% of the data and the validation and test sets have 30% of the data each"
   ]
  },
  {
   "cell_type": "code",
   "execution_count": 106,
   "id": "6e70a19b",
   "metadata": {},
   "outputs": [],
   "source": [
    "#### write your code here ####\n",
    "training_data, validation_data , test_data = split_data(data,data_split)"
   ]
  },
  {
   "cell_type": "markdown",
   "id": "135eeba7",
   "metadata": {},
   "source": [
    "## Section 2: Write Metrics Functions \n",
    "\n",
    "### TO DO: Write the functions that calcluate the metrics you will use to evaluate the model fits\n",
    "\n",
    "Write Functions that return:\n",
    "- The mean absolute error\n",
    "- The average error\n",
    "- The mean absolute percentage error \n",
    "- The root mean squared error \n",
    "- The total sum of squared errors "
   ]
  },
  {
   "cell_type": "code",
   "execution_count": 107,
   "id": "fb389075",
   "metadata": {},
   "outputs": [],
   "source": [
    "## write your code here ##\n",
    "import numpy as np\n",
    "\n",
    "def mean_absolute_error(y_true, y_pred):\n",
    "    \"\"\"\n",
    "    Calculates the mean absolute error between the true and predicted values.\n",
    "\n",
    "    Parameters:\n",
    "    y_true (numpy array): An array of true values\n",
    "    y_pred (numpy array): An array of predicted values\n",
    "\n",
    "    Returns:\n",
    "    float: The mean absolute error\n",
    "    \"\"\"\n",
    "    return np.mean(np.abs(y_true - y_pred))\n",
    "\n",
    "\n",
    "def average_error(y_true, y_pred):\n",
    "    \"\"\"\n",
    "    Calculates the average error between the true and predicted values.\n",
    "\n",
    "    Parameters:\n",
    "    y_true (numpy array): An array of true values\n",
    "    y_pred (numpy array): An array of predicted values\n",
    "\n",
    "    Returns:\n",
    "    float: The average error\n",
    "    \"\"\"\n",
    "    return np.mean(y_true - y_pred)\n",
    "\n",
    "\n",
    "def mean_absolute_percentage_error(y_true, y_pred):\n",
    "    \"\"\"\n",
    "    Calculates the mean absolute percentage error between the true and predicted values.\n",
    "\n",
    "    Parameters:\n",
    "    y_true (numpy array): An array of true values\n",
    "    y_pred (numpy array): An array of predicted values\n",
    "\n",
    "    Returns:\n",
    "    float: The mean absolute percentage error\n",
    "    \"\"\"\n",
    "    return np.mean(np.abs((y_true - y_pred) / y_true)) * 100\n",
    "\n",
    "\n",
    "def root_mean_squared_error(y_true, y_pred):\n",
    "    \"\"\"\n",
    "    Calculates the root mean squared error between the true and predicted values.\n",
    "\n",
    "    Parameters:\n",
    "    y_true (numpy array): An array of true values\n",
    "    y_pred (numpy array): An array of predicted values\n",
    "\n",
    "    Returns:\n",
    "    float: The root mean squared error\n",
    "    \"\"\"\n",
    "    return np.sqrt(np.mean((y_true - y_pred)**2))\n",
    "\n",
    "\n",
    "def total_sum_of_squared_errors(y_true, y_pred):\n",
    "    \"\"\"\n",
    "    Calculates the total sum of squared errors between the true and predicted values.\n",
    "\n",
    "    Parameters:\n",
    "    y_true (numpy array): An array of true values\n",
    "    y_pred (numpy array): An array of predicted values\n",
    "\n",
    "    Returns:\n",
    "    float: The total sum of squared errors\n",
    "    \"\"\"\n",
    "    return np.sum((y_true - y_pred)**2)\n"
   ]
  },
  {
   "cell_type": "markdown",
   "id": "f6e4f258",
   "metadata": {},
   "source": [
    "## Section 3: Fit models to training data and calculate performance metric on validation sets\n",
    "\n",
    "For polynomials of order 1, 2, 3, and 4, you will use fit_model to fit each each model. This function uses scikit-learn polynomial regression. \n",
    "\n",
    "\n",
    "### TODO: write function to convert dataframe into numpy arrays\n",
    "\n",
    "The scikit-learn functions take numpy arrays as their inputs. Therefore before you can fit any data you need to write a function to turn a dataframe with columns [x1, x2, x3, y] into two numpy arrays: X and y. X should have dimensions (N, D), where N is the number of data points and D is the dimensionality of the data (in this case 3). y should have dimensions (N, ). \n"
   ]
  },
  {
   "cell_type": "code",
   "execution_count": 108,
   "id": "314930fa",
   "metadata": {},
   "outputs": [],
   "source": [
    "def dataframe_to_numpy(data):\n",
    "    \"\"\"\n",
    "    Converts a dictionary with keys 'X' and 'Y' into NumPy arrays.\n",
    "\n",
    "    Parameters:\n",
    "    data (dict): A dictionary with keys 'X' and 'Y'. 'X' should be an array\n",
    "    of shape (N, D), and 'Y' should be an array of shape (N, ).\n",
    "\n",
    "    Returns:\n",
    "    tuple: A tuple containing two NumPy arrays, X and y, where X has shape\n",
    "    (N, D) and y has shape (N, ).\n",
    "    \"\"\"\n",
    "    X = data['X']\n",
    "    y = data['Y']\n",
    "    return X, y\n"
   ]
  },
  {
   "cell_type": "code",
   "execution_count": 109,
   "id": "a6167912",
   "metadata": {},
   "outputs": [
    {
     "name": "stdout",
     "output_type": "stream",
     "text": [
      "(40, 3)\n"
     ]
    }
   ],
   "source": [
    "X_train, y_train = dataframe_to_numpy(training_data)\n",
    "print(X_train.shape)"
   ]
  },
  {
   "cell_type": "code",
   "execution_count": 110,
   "id": "21ce8f18",
   "metadata": {},
   "outputs": [
    {
     "name": "stdout",
     "output_type": "stream",
     "text": [
      "(30, 3)\n"
     ]
    }
   ],
   "source": [
    "X_valid,y_valid = dataframe_to_numpy(validation_data)\n",
    "print(X_valid.shape)"
   ]
  },
  {
   "cell_type": "code",
   "execution_count": 111,
   "id": "b3bdc662",
   "metadata": {},
   "outputs": [
    {
     "name": "stdout",
     "output_type": "stream",
     "text": [
      "(30, 3)\n"
     ]
    }
   ],
   "source": [
    "X_test,y_test = dataframe_to_numpy(test_data)\n",
    "print(X_test.shape)"
   ]
  },
  {
   "cell_type": "code",
   "execution_count": 112,
   "id": "206866ff",
   "metadata": {},
   "outputs": [],
   "source": [
    "def fit_model(X, y, order):\n",
    "    \"\"\"creates scikit-learn regression object and fits it to the X and y data\"\"\"\n",
    "    model = Pipeline([('poly', PolynomialFeatures(degree=order)),\n",
    "                      ('linear', LinearRegression(fit_intercept=False))])\n",
    "    model = model.fit(X, y)\n",
    "    return model "
   ]
  },
  {
   "cell_type": "markdown",
   "id": "3005500f",
   "metadata": {},
   "source": [
    "### TO DO: For polynomials of order 1 to 6 inclusive: \n",
    "1. Fit a polynomial to the training data using the fit_model function \n",
    "2. Use model.predict(X) to get the model predictions on the validation set\n",
    "3. Store the model in a dictionary of models where the keys indicate the order and the items are the models\n",
    "4. Store the predictions in a seperate dictionary where the keys indicate the order and the items are numpy arrays of the predictions "
   ]
  },
  {
   "cell_type": "code",
   "execution_count": 113,
   "id": "34b4f860",
   "metadata": {},
   "outputs": [],
   "source": [
    "# Initialize dictionaries to store models and predictions\n",
    "models = {}\n",
    "predictions = {}\n",
    "\n",
    "# Fit polynomial models of order 1 to 6 to the training data\n",
    "for order in range(1, 7):\n",
    "    # Create polynomial features up to the specified order\n",
    "\n",
    "    # Fit a linear regression model to the polynomial features\n",
    "    model = fit_model(X_train,y_train,order)\n",
    "\n",
    "    # Store the model in the dictionary of models\n",
    "    models[order] = model\n",
    "\n",
    "    # Get the model predictions on the validation set\n",
    "    y_val_pred = model.predict(X_valid)\n",
    "\n",
    "    # Store the predictions in the dictionary of predictions\n",
    "    predictions[order] = y_val_pred\n"
   ]
  },
  {
   "cell_type": "code",
   "execution_count": 115,
   "id": "8cccbdd5",
   "metadata": {},
   "outputs": [
    {
     "data": {
      "text/plain": [
       "{1: array([ 9.48085431,  9.81831768,  3.3889457 ,  3.45848688,  1.61830764,\n",
       "         4.22070127,  7.39520479, 11.22467846,  2.81988671,  1.68924521,\n",
       "         4.16323117,  4.24076468, -0.73731226,  2.72506541,  9.49174355,\n",
       "         6.89409983,  3.82621667,  8.63880161,  6.39116456,  1.3829279 ,\n",
       "         7.21337138,  5.44499217,  4.80367641,  4.03202368, 10.8754501 ,\n",
       "        11.07284063,  8.32233985,  6.49794171,  0.33190409,  5.73912101]),\n",
       " 2: array([19.53825117, -4.47760899,  3.29923085, 11.29503198,  5.34865337,\n",
       "         7.9798826 , -2.65334196, 13.4371409 ,  4.3702761 , 14.08953562,\n",
       "        12.20173883,  6.41755756,  5.66442401, 16.11879512,  3.7396162 ,\n",
       "         6.17540455, 10.32652424,  0.7740557 , 14.55650778,  3.7911862 ,\n",
       "        12.51508873,  5.91737812,  3.77001139, -7.49144316, 16.82101087,\n",
       "         3.97869755, 14.21571665,  2.93715453, 20.73914915,  0.2545245 ]),\n",
       " 3: array([ 21.08002986,  -3.13923969,   4.74714807,  -3.58742656,\n",
       "          2.56718173,  11.68381646,  -2.08931652,  12.38073008,\n",
       "          4.93644958,  11.31541161,  21.21038153,  -1.76605574,\n",
       "        -11.41296629,   2.87800666,   3.75942206,   8.27391089,\n",
       "          6.48486293,   1.40195948,  25.50287791,  -0.06276657,\n",
       "          3.60783041,  11.35565075,  -0.58015147,  -8.3419695 ,\n",
       "         12.34491356,   4.50489632,  17.3249786 ,   4.39852417,\n",
       "          3.89881764,   0.44462261]),\n",
       " 4: array([ 19.34009172,  48.01379327,   2.25753504, -13.58364033,\n",
       "          1.17898144,   6.5273671 ,   3.02816365,  -8.78367829,\n",
       "          1.55124007,  -1.0278365 ,   9.75436475, -11.44578195,\n",
       "         23.35906419,  11.81719539,   2.13805898,   2.5055069 ,\n",
       "          9.48122071,   3.97250914,  11.87622551,   0.78206202,\n",
       "         20.70049973,   1.54799707,  -9.13807908,  -3.07550588,\n",
       "         -7.97882855,  55.55181612,  11.91497237,   4.74457869,\n",
       "          4.78874801,  -1.59241843]),\n",
       " 5: array([ 20.15303404,   3.33619035,   3.9242621 ,   6.50572707,\n",
       "          0.11820364,   4.81316598,   0.07463768,   2.86684711,\n",
       "          4.47654465,  10.34832243,   1.76791312,   2.28371775,\n",
       "        -35.10491874,  26.41463273,   2.77802003,   0.14162895,\n",
       "          7.21628429,   2.76891907,  -6.7668854 ,  -0.67936891,\n",
       "         18.57848573,   1.74936191,  -0.10736296,  -8.36741149,\n",
       "         -5.33465234,  25.43524937,  10.97939371,   3.3684973 ,\n",
       "          4.75165404,   0.91304354]),\n",
       " 6: array([ 19.39843685,   6.25532376,   3.9724937 ,   5.13129231,\n",
       "         -0.24602294,   5.03139665,  -0.49844553,  -1.04358141,\n",
       "          4.58030555,   7.34073235,   3.58437862,  -1.32352764,\n",
       "         -9.21224869,  37.41998036,   1.82435783,   2.9628225 ,\n",
       "         11.93401715,   2.59446514,   2.88327362,   3.614396  ,\n",
       "         20.8969402 ,   0.78690156,  -4.53592272, -11.47233908,\n",
       "         -7.8834717 ,  28.53211229,   9.04383484,   3.08727355,\n",
       "          7.67365366,   0.27950574])}"
      ]
     },
     "execution_count": 115,
     "metadata": {},
     "output_type": "execute_result"
    }
   ],
   "source": [
    "predictions"
   ]
  },
  {
   "cell_type": "code",
   "execution_count": 116,
   "id": "594f209d",
   "metadata": {},
   "outputs": [
    {
     "data": {
      "text/plain": [
       "{1: Pipeline(steps=[('poly', PolynomialFeatures(degree=1)),\n",
       "                 ('linear', LinearRegression(fit_intercept=False))]),\n",
       " 2: Pipeline(steps=[('poly', PolynomialFeatures()),\n",
       "                 ('linear', LinearRegression(fit_intercept=False))]),\n",
       " 3: Pipeline(steps=[('poly', PolynomialFeatures(degree=3)),\n",
       "                 ('linear', LinearRegression(fit_intercept=False))]),\n",
       " 4: Pipeline(steps=[('poly', PolynomialFeatures(degree=4)),\n",
       "                 ('linear', LinearRegression(fit_intercept=False))]),\n",
       " 5: Pipeline(steps=[('poly', PolynomialFeatures(degree=5)),\n",
       "                 ('linear', LinearRegression(fit_intercept=False))]),\n",
       " 6: Pipeline(steps=[('poly', PolynomialFeatures(degree=6)),\n",
       "                 ('linear', LinearRegression(fit_intercept=False))])}"
      ]
     },
     "execution_count": 116,
     "metadata": {},
     "output_type": "execute_result"
    }
   ],
   "source": [
    "models"
   ]
  },
  {
   "cell_type": "markdown",
   "id": "cc41eccd",
   "metadata": {},
   "source": [
    "## Section 4: Calculate metrics for each of the models\n",
    "\n",
    "Now we want to calculate the metrics for each of the models. \n",
    "\n",
    "\n",
    "### TODO: Use the dictionary of predictions you have to caluclate and record (could be in a dataframe, or you could plot it on a graph) each of the metrics. \n",
    "1. Calculate each of the metrics for the model using the functions you wrote before\n",
    "2. Store the metrics in a dataframe, with one row for each model or plot on a graph\n",
    "3. Answer the questions that go alongside this notebook \n",
    "\n",
    "HINT: you can write a list of functions of the form:\n",
    "\n",
    "methods = [RMSE, average_error, mean_abs_percent_error, total_sum_squared_error]\n",
    "\n",
    "which you can then iterate over using a for loop. \n",
    "\n"
   ]
  },
  {
   "cell_type": "code",
   "execution_count": 117,
   "id": "f9e87a35",
   "metadata": {
    "scrolled": true
   },
   "outputs": [
    {
     "name": "stdout",
     "output_type": "stream",
     "text": [
      "  order mean_absolute_error average_error mean_absolute_percentage_error  \\\n",
      "0   1.0            8.046605      1.985117                     167.191197   \n",
      "1   2.0            2.621087      0.012278                      64.003596   \n",
      "2   3.0            5.376502      2.029866                      72.461973   \n",
      "3   4.0           11.425884      0.860409                     193.892348   \n",
      "4   5.0            8.032704      3.887179                      87.313374   \n",
      "5   6.0            7.627031      2.446872                      93.855029   \n",
      "\n",
      "  root_mean_squared_error total_sum_of_squared_errors  \n",
      "0                10.31336                  3190.96187  \n",
      "1                 3.79615                  432.322662  \n",
      "2                7.807554                  1828.73693  \n",
      "3               18.961277                10785.900954  \n",
      "4               13.576144                 5529.350242  \n",
      "5               11.595363                 4033.573457  \n"
     ]
    },
    {
     "name": "stderr",
     "output_type": "stream",
     "text": [
      "C:\\Users\\Abdul Basit Aftab\\AppData\\Local\\Temp\\ipykernel_9240\\1701155533.py:13: FutureWarning: The frame.append method is deprecated and will be removed from pandas in a future version. Use pandas.concat instead.\n",
      "  results_df = results_df.append(row, ignore_index=True)\n",
      "C:\\Users\\Abdul Basit Aftab\\AppData\\Local\\Temp\\ipykernel_9240\\1701155533.py:13: FutureWarning: The frame.append method is deprecated and will be removed from pandas in a future version. Use pandas.concat instead.\n",
      "  results_df = results_df.append(row, ignore_index=True)\n",
      "C:\\Users\\Abdul Basit Aftab\\AppData\\Local\\Temp\\ipykernel_9240\\1701155533.py:13: FutureWarning: The frame.append method is deprecated and will be removed from pandas in a future version. Use pandas.concat instead.\n",
      "  results_df = results_df.append(row, ignore_index=True)\n",
      "C:\\Users\\Abdul Basit Aftab\\AppData\\Local\\Temp\\ipykernel_9240\\1701155533.py:13: FutureWarning: The frame.append method is deprecated and will be removed from pandas in a future version. Use pandas.concat instead.\n",
      "  results_df = results_df.append(row, ignore_index=True)\n",
      "C:\\Users\\Abdul Basit Aftab\\AppData\\Local\\Temp\\ipykernel_9240\\1701155533.py:13: FutureWarning: The frame.append method is deprecated and will be removed from pandas in a future version. Use pandas.concat instead.\n",
      "  results_df = results_df.append(row, ignore_index=True)\n",
      "C:\\Users\\Abdul Basit Aftab\\AppData\\Local\\Temp\\ipykernel_9240\\1701155533.py:13: FutureWarning: The frame.append method is deprecated and will be removed from pandas in a future version. Use pandas.concat instead.\n",
      "  results_df = results_df.append(row, ignore_index=True)\n"
     ]
    }
   ],
   "source": [
    "# Define list of metric functions\n",
    "methods = [mean_absolute_error, average_error, mean_absolute_percentage_error, root_mean_squared_error, total_sum_of_squared_errors]\n",
    "\n",
    "# Initialize dataframe to store results\n",
    "results_df = pd.DataFrame(columns=['order'] + [method.__name__ for method in methods])\n",
    "\n",
    "# Calculate and record metrics for each model\n",
    "for order, y_pred in predictions.items():\n",
    "    row = {'order': order}\n",
    "    for method in methods:\n",
    "        metric_value = method(y_valid, y_pred)\n",
    "        row[method.__name__] = metric_value\n",
    "    results_df = results_df.append(row, ignore_index=True)\n",
    "\n",
    "# Print results\n",
    "print(results_df)\n"
   ]
  },
  {
   "cell_type": "code",
   "execution_count": null,
   "id": "f566a1ee",
   "metadata": {},
   "outputs": [],
   "source": []
  },
  {
   "cell_type": "markdown",
   "id": "cf2caeaa",
   "metadata": {},
   "source": [
    "## Section 5: Use the test set to evaluate the performance of your chosen model\n",
    "\n",
    "### TODO: For your selected model, calculate the RMSE, Average Error and Mean Absolute Percentage Error of the test data"
   ]
  },
  {
   "cell_type": "code",
   "execution_count": 118,
   "id": "15e48f6f",
   "metadata": {},
   "outputs": [],
   "source": [
    "test_models = models\n",
    "test_predictions = {}\n",
    "for order in range(1, 7):\n",
    "    # Store the model in the dictionary of models\n",
    "    test_models[order] = models[order]\n",
    "\n",
    "    # Get the model predictions on the validation set\n",
    "    y_test_pred = models[order].predict(X_test)\n",
    "\n",
    "    # Store the predictions in the dictionary of predictions\n",
    "    test_predictions[order] = y_test_pred\n"
   ]
  },
  {
   "cell_type": "code",
   "execution_count": 91,
   "id": "b1b4e572",
   "metadata": {},
   "outputs": [
    {
     "data": {
      "text/plain": [
       "{1: Pipeline(steps=[('poly', PolynomialFeatures(degree=1)),\n",
       "                 ('linear', LinearRegression(fit_intercept=False))]),\n",
       " 2: Pipeline(steps=[('poly', PolynomialFeatures()),\n",
       "                 ('linear', LinearRegression(fit_intercept=False))]),\n",
       " 3: Pipeline(steps=[('poly', PolynomialFeatures(degree=3)),\n",
       "                 ('linear', LinearRegression(fit_intercept=False))]),\n",
       " 4: Pipeline(steps=[('poly', PolynomialFeatures(degree=4)),\n",
       "                 ('linear', LinearRegression(fit_intercept=False))]),\n",
       " 5: Pipeline(steps=[('poly', PolynomialFeatures(degree=5)),\n",
       "                 ('linear', LinearRegression(fit_intercept=False))]),\n",
       " 6: Pipeline(steps=[('poly', PolynomialFeatures(degree=6)),\n",
       "                 ('linear', LinearRegression(fit_intercept=False))])}"
      ]
     },
     "execution_count": 91,
     "metadata": {},
     "output_type": "execute_result"
    }
   ],
   "source": [
    "test_models"
   ]
  },
  {
   "cell_type": "code",
   "execution_count": 92,
   "id": "0c7660d6",
   "metadata": {},
   "outputs": [
    {
     "data": {
      "text/plain": [
       "8.640523062865842"
      ]
     },
     "execution_count": 92,
     "metadata": {},
     "output_type": "execute_result"
    }
   ],
   "source": [
    "root_mean_squared_error(y_test, new_pred)"
   ]
  },
  {
   "cell_type": "code",
   "execution_count": 119,
   "id": "166cc0de",
   "metadata": {},
   "outputs": [
    {
     "name": "stdout",
     "output_type": "stream",
     "text": [
      "  order average_error mean_absolute_percentage_error root_mean_squared_error\n",
      "0   1.0     -1.891249                      300.26961                8.040202\n",
      "1   2.0     -1.185284                     224.169706                4.157551\n",
      "2   3.0     -0.616602                     228.019542                5.855951\n",
      "3   4.0     -6.388542                     491.161582               23.449893\n",
      "4   5.0     -1.949884                     198.802914               10.322205\n",
      "5   6.0     -2.657774                     201.665538               12.608421\n"
     ]
    },
    {
     "name": "stderr",
     "output_type": "stream",
     "text": [
      "C:\\Users\\Abdul Basit Aftab\\AppData\\Local\\Temp\\ipykernel_9240\\1013619281.py:12: FutureWarning: The frame.append method is deprecated and will be removed from pandas in a future version. Use pandas.concat instead.\n",
      "  test_results_df = test_results_df.append(row, ignore_index=True)\n",
      "C:\\Users\\Abdul Basit Aftab\\AppData\\Local\\Temp\\ipykernel_9240\\1013619281.py:12: FutureWarning: The frame.append method is deprecated and will be removed from pandas in a future version. Use pandas.concat instead.\n",
      "  test_results_df = test_results_df.append(row, ignore_index=True)\n",
      "C:\\Users\\Abdul Basit Aftab\\AppData\\Local\\Temp\\ipykernel_9240\\1013619281.py:12: FutureWarning: The frame.append method is deprecated and will be removed from pandas in a future version. Use pandas.concat instead.\n",
      "  test_results_df = test_results_df.append(row, ignore_index=True)\n",
      "C:\\Users\\Abdul Basit Aftab\\AppData\\Local\\Temp\\ipykernel_9240\\1013619281.py:12: FutureWarning: The frame.append method is deprecated and will be removed from pandas in a future version. Use pandas.concat instead.\n",
      "  test_results_df = test_results_df.append(row, ignore_index=True)\n",
      "C:\\Users\\Abdul Basit Aftab\\AppData\\Local\\Temp\\ipykernel_9240\\1013619281.py:12: FutureWarning: The frame.append method is deprecated and will be removed from pandas in a future version. Use pandas.concat instead.\n",
      "  test_results_df = test_results_df.append(row, ignore_index=True)\n",
      "C:\\Users\\Abdul Basit Aftab\\AppData\\Local\\Temp\\ipykernel_9240\\1013619281.py:12: FutureWarning: The frame.append method is deprecated and will be removed from pandas in a future version. Use pandas.concat instead.\n",
      "  test_results_df = test_results_df.append(row, ignore_index=True)\n"
     ]
    }
   ],
   "source": [
    "## write your code here ## \n",
    "# Initialize dataframe to store results\n",
    "test_methods = methods = [average_error, mean_absolute_percentage_error, root_mean_squared_error]\n",
    "test_results_df = pd.DataFrame(columns=['order'] + [method.__name__ for method in test_methods])\n",
    "\n",
    "# Calculate and record metrics for each model\n",
    "for order, y_pred in test_predictions.items():\n",
    "    row = {'order': order}\n",
    "    for method in test_methods:\n",
    "        metric_value = method(y_test, y_pred)\n",
    "        row[method.__name__] = metric_value\n",
    "    test_results_df = test_results_df.append(row, ignore_index=True)\n",
    "\n",
    "# Print results\n",
    "print(test_results_df)"
   ]
  },
  {
   "cell_type": "code",
   "execution_count": null,
   "id": "69a8ec72",
   "metadata": {},
   "outputs": [],
   "source": []
  }
 ],
 "metadata": {
  "kernelspec": {
   "display_name": "Python 3 (ipykernel)",
   "language": "python",
   "name": "python3"
  },
  "language_info": {
   "codemirror_mode": {
    "name": "ipython",
    "version": 3
   },
   "file_extension": ".py",
   "mimetype": "text/x-python",
   "name": "python",
   "nbconvert_exporter": "python",
   "pygments_lexer": "ipython3",
   "version": "3.9.12"
  }
 },
 "nbformat": 4,
 "nbformat_minor": 5
}
